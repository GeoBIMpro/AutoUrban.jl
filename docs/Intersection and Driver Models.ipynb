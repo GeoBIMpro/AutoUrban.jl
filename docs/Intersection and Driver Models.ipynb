{
 "cells": [
  {
   "cell_type": "markdown",
   "metadata": {},
   "source": [
    "# Model Testbed"
   ]
  },
  {
   "cell_type": "code",
   "execution_count": null,
   "metadata": {
    "collapsed": false
   },
   "outputs": [],
   "source": [
    "using AutomotiveDrivingModels\n",
    "using AutoViz\n",
    "using LsqFit\n",
    "using Reactive, Interact\n",
    "using AutoUrban"
   ]
  },
  {
   "cell_type": "markdown",
   "metadata": {},
   "source": [
    "## Build Intersection"
   ]
  },
  {
   "cell_type": "code",
   "execution_count": null,
   "metadata": {
    "collapsed": false
   },
   "outputs": [],
   "source": [
    "roadlength = 50.0\n",
    "lane_width = 5.0\n",
    "roadway,junction = gen_intersection(roadlength = roadlength,lane_width = lane_width)\n",
    "scene = Frame(Entity{VehicleState, BicycleModel, Int},100)\n",
    "#scene = Scene()\n",
    "id=1\n",
    "push!(scene,Entity(VehicleState(VecSE2(0.0,0.0,0.0), roadway, 10.0), \n",
    "    BicycleModel(VehicleDef(AgentClass.CAR, 4.826, 1.81)),id))\n",
    "id += 1\n",
    "push!(scene,Entity(VehicleState(VecSE2(10.0,0.0,0.0), roadway, 10.0), \n",
    "    BicycleModel(VehicleDef(AgentClass.CAR, 4.826, 1.81)),id))\n",
    "id += 1\n",
    "push!(scene,Entity(VehicleState(VecSE2(20.0,0.0,0.0), roadway, 9.0), \n",
    "    BicycleModel(VehicleDef(AgentClass.CAR, 4.826, 1.81)),id))\n",
    "render(scene, roadway)"
   ]
  },
  {
   "cell_type": "code",
   "execution_count": null,
   "metadata": {
    "collapsed": false
   },
   "outputs": [],
   "source": [
    "connect_two_seg!(roadway.segments[2],roadway.segments[3],roadway)\n",
    "connect_two_seg!(roadway.segments[4],roadway.segments[5],roadway)\n",
    "connect_two_seg!(roadway.segments[6],roadway.segments[7],roadway)\n",
    "connect_two_seg!(roadway.segments[8],roadway.segments[1],roadway)\n",
    "render(scene, roadway)"
   ]
  },
  {
   "cell_type": "markdown",
   "metadata": {},
   "source": [
    "## Model Test"
   ]
  },
  {
   "cell_type": "code",
   "execution_count": null,
   "metadata": {
    "collapsed": false
   },
   "outputs": [],
   "source": [
    "framerate = 24\n",
    "timeStep = 0.05\n",
    "models = Dict{Int, DriverModel}()\n",
    "\n",
    "models[1]=UrbanDriver(timeStep,direction=1) #IDM and MOBIL, direction specifies which lane to go at intersection\n",
    "models[2]=UrbanDriver(timeStep,direction=2)\n",
    "models[3]=MultiPtsTurningDriver(timeStep,v_max=20.0,v_min=0.0,turning_direction=3) #Use 20 waypoints to guide the veh\n",
    "excute_action!(models[3],0.0,0,scene, roadway, 1)\n",
    "#0.0 is the desired acc, 0 means keeping current lane, 1 means changing to left lane, -1 means changing to right lane\n",
    "actions = get_actions!(Array(Any, length(scene)), scene, roadway, models)"
   ]
  },
  {
   "cell_type": "code",
   "execution_count": null,
   "metadata": {
    "collapsed": false
   },
   "outputs": [],
   "source": [
    "function drawsim(t)\n",
    "    get_actions!(actions, scene, roadway, models)\n",
    "    #actions[1] = AccelSteeringAngle(0.5,0.0)\n",
    "    #actions[2] = LatLonAccel(0.0,0.5)\n",
    "    #actions[3] = LatLonAccel(0.0,0.5)\n",
    "    tick!(scene, roadway, actions, timeStep)\n",
    "    text1=[string(\"ego speed: \", scene[3].state.v)]\n",
    "    render(scene, roadway,models,text=text1,cam=StaticCamera(VecE2(roadlength+lane_width,0.5*lane_width), 4.0))\n",
    "    # render(scene, roadway,models,cam=CarFollowCamera{Int}(1, 8.0))\n",
    "end\n",
    "\n",
    "#Uncomment the following lines to let the simulation run continuously\n",
    "ticks = fps(framerate)\n",
    "timestamps = map(_ -> time(), ticks)\n",
    "map(drawsim, timestamps)"
   ]
  },
  {
   "cell_type": "code",
   "execution_count": null,
   "metadata": {
    "collapsed": false
   },
   "outputs": [],
   "source": [
    "drawsim(0)"
   ]
  }
 ],
 "metadata": {
  "anaconda-cloud": {},
  "kernelspec": {
   "display_name": "Julia 0.5.2",
   "language": "julia",
   "name": "julia-0.5"
  },
  "language_info": {
   "file_extension": ".jl",
   "mimetype": "application/julia",
   "name": "julia",
   "version": "0.5.2"
  }
 },
 "nbformat": 4,
 "nbformat_minor": 1
}
